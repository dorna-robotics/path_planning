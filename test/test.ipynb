{
 "cells": [
  {
   "cell_type": "code",
   "execution_count": null,
   "id": "c8fbeead",
   "metadata": {},
   "outputs": [
    {
     "ename": "ModuleNotFoundError",
     "evalue": "No module named 'path_planning'",
     "output_type": "error",
     "traceback": [
      "\u001b[1;31m---------------------------------------------------------------------------\u001b[0m",
      "\u001b[1;31mModuleNotFoundError\u001b[0m                       Traceback (most recent call last)",
      "Cell \u001b[1;32mIn[1], line 4\u001b[0m\n\u001b[0;32m      1\u001b[0m \u001b[38;5;28;01mimport\u001b[39;00m \u001b[38;5;21;01mnumpy\u001b[39;00m \u001b[38;5;28;01mas\u001b[39;00m \u001b[38;5;21;01mnp\u001b[39;00m\n\u001b[0;32m      2\u001b[0m \u001b[38;5;28;01mimport\u001b[39;00m \u001b[38;5;21;01mos\u001b[39;00m \n\u001b[1;32m----> 4\u001b[0m \u001b[38;5;28;01mimport\u001b[39;00m \u001b[38;5;21;01mpath_planning\u001b[39;00m\n\u001b[0;32m      5\u001b[0m \u001b[38;5;28;01mfrom\u001b[39;00m \u001b[38;5;21;01mpath_planning\u001b[39;00m \u001b[38;5;28;01mimport\u001b[39;00m Planner\n\u001b[0;32m      7\u001b[0m \u001b[38;5;66;03m# Define a shape dict (box example)\u001b[39;00m\n",
      "\u001b[1;31mModuleNotFoundError\u001b[0m: No module named 'path_planning'"
     ]
    }
   ],
   "source": [
    "\n",
    "import numpy as np\n",
    "import os \n",
    "\n",
    "import path_planning\n",
    "from path_planning import Planner\n",
    "\n",
    "# Define a shape dict (box example)\n",
    "scene = []\n",
    "load = []\n",
    "\n",
    "for i in range(4):\n",
    "    t = i * np.pi / 2.0 + np.pi / 4.0\n",
    "    l = 0.38\n",
    "    scene.append(Planner.create_cube( [l*np.cos(t),l*np.sin(t),0, 0, 0, 0],[0.05, 0.05, 0.8] ))\n",
    "\n",
    "# create_cube: [x, y, z, a, b, c] center of the cube, [x_dim, y_dim, z_dim]: +/- x_dim\n",
    "load = [Planner.create_cube([0,0,0.03,0,0,0], [0.01,0.01,0.05])  ]\n",
    "\n",
    "planner = Planner(    \n",
    "    scene = scene,\n",
    "    load          = load, # object attached to tool, frame respected to the tool\n",
    "    gripper = [] ,\n",
    "    tool          = [0,0,0, 0,0,0],\n",
    "    base_in_world = [0,0,0, 0,0,0],\n",
    "    frame_in_world= [0.0,0.0,0.0, 0,0,0],\n",
    "    aux_dir       = [ [1,0,0], [0,0,0] ],\n",
    "    aux_limit     = [ [0,500], [0, 0] ],\n",
    "    )\n",
    "\n",
    "print(planner.check_collision([0,0,-169,0,0,0]) , \" \\n \\n \\n \") # empty list if no collision, sample collision: [{\"links\":[\"j0\",\"\"j1\"]},{...}]\n",
    "print(planner.plan([0,0,0,0,0,0,0,0],[-170,0,0,0,0,0,0,0]))\n"
   ]
  },
  {
   "cell_type": "code",
   "execution_count": null,
   "id": "a96007b2",
   "metadata": {},
   "outputs": [],
   "source": []
  }
 ],
 "metadata": {
  "kernelspec": {
   "display_name": "Python 3",
   "language": "python",
   "name": "python3"
  },
  "language_info": {
   "codemirror_mode": {
    "name": "ipython",
    "version": 3
   },
   "file_extension": ".py",
   "mimetype": "text/x-python",
   "name": "python",
   "nbconvert_exporter": "python",
   "pygments_lexer": "ipython3",
   "version": "3.9.7"
  }
 },
 "nbformat": 4,
 "nbformat_minor": 5
}
